{
 "cells": [
  {
   "cell_type": "code",
   "execution_count": 1,
   "metadata": {
    "collapsed": true
   },
   "outputs": [],
   "source": [
    "from string import punctuation\n",
    "from tensorflow.keras.preprocessing.text import Tokenizer\n",
    "from tensorflow.keras.preprocessing.sequence import pad_sequences\n",
    "from tensorflow.keras.models import Sequential\n",
    "from tensorflow.keras.layers import Dense, Flatten, Embedding, Conv1D, MaxPooling1D, Dropout\n",
    "import pandas as pd\n",
    "from sklearn.model_selection import train_test_split\n",
    "from sklearn.feature_extraction.text import CountVectorizer\n",
    "import numpy as np\n",
    "import matplotlib.pyplot as plt\n",
    "from tensorflow.keras.callbacks import ModelCheckpoint, EarlyStopping, ReduceLROnPlateau\n",
    "%matplotlib inline"
   ]
  },
  {
   "cell_type": "code",
   "execution_count": 2,
   "metadata": {},
   "outputs": [
    {
     "data": {
      "text/html": [
       "<div>\n",
       "<style scoped>\n",
       "    .dataframe tbody tr th:only-of-type {\n",
       "        vertical-align: middle;\n",
       "    }\n",
       "\n",
       "    .dataframe tbody tr th {\n",
       "        vertical-align: top;\n",
       "    }\n",
       "\n",
       "    .dataframe thead th {\n",
       "        text-align: right;\n",
       "    }\n",
       "</style>\n",
       "<table border=\"1\" class=\"dataframe\">\n",
       "  <thead>\n",
       "    <tr style=\"text-align: right;\">\n",
       "      <th></th>\n",
       "      <th>text</th>\n",
       "      <th>not_incarcerated</th>\n",
       "    </tr>\n",
       "  </thead>\n",
       "  <tbody>\n",
       "    <tr>\n",
       "      <th>0</th>\n",
       "      <td>20 dollars reward. ranaway from the subscriber...</td>\n",
       "      <td>1</td>\n",
       "    </tr>\n",
       "    <tr>\n",
       "      <th>1</th>\n",
       "      <td>15 dollars reward will be paid for the apprehe...</td>\n",
       "      <td>1</td>\n",
       "    </tr>\n",
       "    <tr>\n",
       "      <th>2</th>\n",
       "      <td>baltimore august 11 1777. 10 pounds reward. ra...</td>\n",
       "      <td>1</td>\n",
       "    </tr>\n",
       "    <tr>\n",
       "      <th>3</th>\n",
       "      <td>90 dollars reward. eloped from the hermitage o...</td>\n",
       "      <td>1</td>\n",
       "    </tr>\n",
       "    <tr>\n",
       "      <th>4</th>\n",
       "      <td>50 dollars reward. ranaway from the subscriber...</td>\n",
       "      <td>1</td>\n",
       "    </tr>\n",
       "  </tbody>\n",
       "</table>\n",
       "</div>"
      ],
      "text/plain": [
       "                                                text  not_incarcerated\n",
       "0  20 dollars reward. ranaway from the subscriber...                 1\n",
       "1  15 dollars reward will be paid for the apprehe...                 1\n",
       "2  baltimore august 11 1777. 10 pounds reward. ra...                 1\n",
       "3  90 dollars reward. eloped from the hermitage o...                 1\n",
       "4  50 dollars reward. ranaway from the subscriber...                 1"
      ]
     },
     "execution_count": 2,
     "metadata": {},
     "output_type": "execute_result"
    }
   ],
   "source": [
    "df = pd.read_csv('../data/interim/incarcerated_df.csv')\n",
    "df.head()"
   ]
  },
  {
   "cell_type": "code",
   "execution_count": 3,
   "metadata": {
    "collapsed": true
   },
   "outputs": [],
   "source": [
    "x = df.text\n",
    "y = df.not_incarcerated\n",
    "x_train, x_test, y_train, y_test = train_test_split(x, y, test_size=0.25, random_state=42)"
   ]
  },
  {
   "cell_type": "code",
   "execution_count": 4,
   "metadata": {
    "collapsed": true
   },
   "outputs": [],
   "source": [
    "tokenizer = Tokenizer()\n",
    "tokenizer.fit_on_texts(x_train)\n",
    "max_length = np.max([len(para.split()) for para in x_train])"
   ]
  },
  {
   "cell_type": "code",
   "execution_count": 5,
   "metadata": {
    "collapsed": true
   },
   "outputs": [],
   "source": [
    "def get_sequences(tknzr, data, max_len):\n",
    "    enc_text = tknzr.texts_to_sequences(data)\n",
    "    padded = pad_sequences(enc_text, maxlen = max_len, padding='post')\n",
    "    return padded\n",
    "Xtrain = get_sequences(tokenizer, x_train, max_length)\n",
    "Xtest = get_sequences(tokenizer, x_test, max_length)\n",
    "Ytrain, Ytest = np.array(y_train), np.array(y_test)\n",
    "vocab_size = len(tokenizer.word_index) + 1"
   ]
  },
  {
   "cell_type": "code",
   "execution_count": 6,
   "metadata": {
    "collapsed": true
   },
   "outputs": [],
   "source": [
    "reduce_lr = ReduceLROnPlateau(monitor='val_loss', factor=0.2, patience=5, min_lr=0.0001, verbose=2)\n",
    "stopping = EarlyStopping(monitor='val_loss', patience=15, min_delta=0, mode='auto')\n",
    "checkpoint = ModelCheckpoint(filepath='cnn_model.hdf5', save_weights_only=True, verbose=1,\n",
    "                             save_best_only = True)\n",
    "callbacks = [reduce_lr, stopping, checkpoint]"
   ]
  },
  {
   "cell_type": "code",
   "execution_count": 7,
   "metadata": {},
   "outputs": [
    {
     "name": "stderr",
     "output_type": "stream",
     "text": [
      "2022-09-08 08:29:26.514115: I tensorflow/core/platform/cpu_feature_guard.cc:145] This TensorFlow binary is optimized with Intel(R) MKL-DNN to use the following CPU instructions in performance critical operations:  SSE4.1 SSE4.2 AVX AVX2 FMA\n",
      "To enable them in non-MKL-DNN operations, rebuild TensorFlow with the appropriate compiler flags.\n",
      "2022-09-08 08:29:26.514442: I tensorflow/core/common_runtime/process_util.cc:115] Creating new thread pool with default inter op setting: 8. Tune using inter_op_parallelism_threads for best performance.\n"
     ]
    },
    {
     "name": "stdout",
     "output_type": "stream",
     "text": [
      "Train on 855 samples, validate on 95 samples\n",
      "Epoch 1/50\n",
      "\n",
      "Epoch 00001: val_loss improved from inf to 0.39517, saving model to cnn_model.hdf5\n",
      "855/855 - 5s - loss: 0.4633 - accuracy: 0.8023 - val_loss: 0.3952 - val_accuracy: 0.8211\n",
      "Epoch 2/50\n",
      "\n",
      "Epoch 00002: val_loss improved from 0.39517 to 0.17007, saving model to cnn_model.hdf5\n",
      "855/855 - 3s - loss: 0.2391 - accuracy: 0.8257 - val_loss: 0.1701 - val_accuracy: 0.8842\n",
      "Epoch 3/50\n",
      "\n",
      "Epoch 00003: val_loss improved from 0.17007 to 0.09328, saving model to cnn_model.hdf5\n",
      "855/855 - 4s - loss: 0.1279 - accuracy: 0.9860 - val_loss: 0.0933 - val_accuracy: 0.9895\n",
      "Epoch 4/50\n",
      "\n",
      "Epoch 00004: val_loss improved from 0.09328 to 0.05552, saving model to cnn_model.hdf5\n",
      "855/855 - 4s - loss: 0.0349 - accuracy: 0.9953 - val_loss: 0.0555 - val_accuracy: 0.9895\n",
      "Epoch 5/50\n",
      "\n",
      "Epoch 00005: val_loss improved from 0.05552 to 0.05116, saving model to cnn_model.hdf5\n",
      "855/855 - 4s - loss: 0.0123 - accuracy: 0.9965 - val_loss: 0.0512 - val_accuracy: 0.9895\n",
      "Epoch 6/50\n",
      "\n",
      "Epoch 00006: val_loss did not improve from 0.05116\n",
      "855/855 - 4s - loss: 0.0065 - accuracy: 0.9965 - val_loss: 0.0545 - val_accuracy: 0.9895\n",
      "Epoch 7/50\n",
      "\n",
      "Epoch 00007: val_loss did not improve from 0.05116\n",
      "855/855 - 4s - loss: 0.0036 - accuracy: 0.9988 - val_loss: 0.0635 - val_accuracy: 0.9895\n",
      "Epoch 8/50\n",
      "\n",
      "Epoch 00008: val_loss did not improve from 0.05116\n",
      "855/855 - 4s - loss: 0.0022 - accuracy: 1.0000 - val_loss: 0.0696 - val_accuracy: 0.9895\n",
      "Epoch 9/50\n",
      "\n",
      "Epoch 00009: val_loss did not improve from 0.05116\n",
      "855/855 - 4s - loss: 0.0010 - accuracy: 1.0000 - val_loss: 0.0755 - val_accuracy: 0.9895\n",
      "Epoch 10/50\n",
      "\n",
      "Epoch 00010: ReduceLROnPlateau reducing learning rate to 0.00020000000949949026.\n",
      "\n",
      "Epoch 00010: val_loss did not improve from 0.05116\n",
      "855/855 - 4s - loss: 6.3412e-04 - accuracy: 1.0000 - val_loss: 0.0767 - val_accuracy: 0.9895\n",
      "Epoch 11/50\n",
      "\n",
      "Epoch 00011: val_loss did not improve from 0.05116\n",
      "855/855 - 4s - loss: 3.8878e-04 - accuracy: 1.0000 - val_loss: 0.0775 - val_accuracy: 0.9895\n",
      "Epoch 12/50\n",
      "\n",
      "Epoch 00012: val_loss did not improve from 0.05116\n",
      "855/855 - 4s - loss: 4.4137e-04 - accuracy: 1.0000 - val_loss: 0.0785 - val_accuracy: 0.9895\n",
      "Epoch 13/50\n",
      "\n",
      "Epoch 00013: val_loss did not improve from 0.05116\n",
      "855/855 - 4s - loss: 4.2271e-04 - accuracy: 1.0000 - val_loss: 0.0792 - val_accuracy: 0.9895\n",
      "Epoch 14/50\n",
      "\n",
      "Epoch 00014: val_loss did not improve from 0.05116\n",
      "855/855 - 4s - loss: 4.2148e-04 - accuracy: 1.0000 - val_loss: 0.0798 - val_accuracy: 0.9895\n",
      "Epoch 15/50\n",
      "\n",
      "Epoch 00015: ReduceLROnPlateau reducing learning rate to 0.0001.\n",
      "\n",
      "Epoch 00015: val_loss did not improve from 0.05116\n",
      "855/855 - 4s - loss: 3.9743e-04 - accuracy: 1.0000 - val_loss: 0.0807 - val_accuracy: 0.9895\n",
      "Epoch 16/50\n",
      "\n",
      "Epoch 00016: val_loss did not improve from 0.05116\n",
      "855/855 - 4s - loss: 3.1252e-04 - accuracy: 1.0000 - val_loss: 0.0810 - val_accuracy: 0.9895\n",
      "Epoch 17/50\n",
      "\n",
      "Epoch 00017: val_loss did not improve from 0.05116\n",
      "855/855 - 4s - loss: 3.0323e-04 - accuracy: 1.0000 - val_loss: 0.0816 - val_accuracy: 0.9895\n",
      "Epoch 18/50\n",
      "\n",
      "Epoch 00018: val_loss did not improve from 0.05116\n",
      "855/855 - 4s - loss: 3.0502e-04 - accuracy: 1.0000 - val_loss: 0.0818 - val_accuracy: 0.9895\n",
      "Epoch 19/50\n",
      "\n",
      "Epoch 00019: val_loss did not improve from 0.05116\n",
      "855/855 - 4s - loss: 2.5983e-04 - accuracy: 1.0000 - val_loss: 0.0828 - val_accuracy: 0.9895\n",
      "Epoch 20/50\n",
      "\n",
      "Epoch 00020: val_loss did not improve from 0.05116\n",
      "855/855 - 4s - loss: 2.8164e-04 - accuracy: 1.0000 - val_loss: 0.0834 - val_accuracy: 0.9895\n"
     ]
    }
   ],
   "source": [
    "# model\n",
    "model = Sequential()\n",
    "model.add(Embedding(vocab_size, 100, input_length=max_length))\n",
    "model.add(Conv1D(filters=32, kernel_size=4, activation='relu'))\n",
    "model.add(MaxPooling1D(pool_size=2))\n",
    "model.add(Flatten())\n",
    "model.add(Dropout(.3))\n",
    "model.add(Dense(32, activation='relu'))\n",
    "model.add(Dense(1, activation='sigmoid'))\n",
    "model.compile(loss='binary_crossentropy', optimizer='adam', metrics=['accuracy'])\n",
    "hist = model.fit(Xtrain, Ytrain, epochs=50, verbose=2, callbacks = callbacks, validation_split = 0.1)"
   ]
  },
  {
   "cell_type": "code",
   "execution_count": 8,
   "metadata": {},
   "outputs": [
    {
     "data": {
      "image/png": "[encoded data removed]",
      "text/plain": [
       "<Figure size 432x288 with 1 Axes>"
      ]
     },
     "metadata": {
      "needs_background": "light"
     },
     "output_type": "display_data"
    }
   ],
   "source": [
    "plt.plot(hist.history['loss'])\n",
    "plt.plot(hist.history['val_loss']);"
   ]
  },
  {
   "cell_type": "code",
   "execution_count": 9,
   "metadata": {},
   "outputs": [
    {
     "name": "stdout",
     "output_type": "stream",
     "text": [
      "Test Accuracy: 99.684542\n"
     ]
    }
   ],
   "source": [
    "loss, acc = model.evaluate(Xtest, Ytest, verbose=0)\n",
    "print('Test Accuracy: %f' % (acc*100))"
   ]
  }
 ],
 "metadata": {
  "kernelspec": {
   "display_name": "Python [conda env:satview]",
   "language": "python",
   "name": "conda-env-satview-py"
  },
  "language_info": {
   "codemirror_mode": {
    "name": "ipython",
    "version": 3
   },
   "file_extension": ".py",
   "mimetype": "text/x-python",
   "name": "python",
   "nbconvert_exporter": "python",
   "pygments_lexer": "ipython3",
   "version": "3.7.13"
  }
 },
 "nbformat": 4,
 "nbformat_minor": 2
}
