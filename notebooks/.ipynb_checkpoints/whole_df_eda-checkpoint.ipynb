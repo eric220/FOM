{
 "cells": [
  {
   "cell_type": "code",
   "execution_count": 1,
   "metadata": {
    "collapsed": true
   },
   "outputs": [],
   "source": [
    "import numpy as np\n",
    "import pandas as pd\n",
    "import matplotlib.pyplot as plt\n",
    "import re\n",
    "import pickle\n",
    "import seaborn as sns\n",
    "%matplotlib inline"
   ]
  },
  {
   "cell_type": "code",
   "execution_count": 2,
   "metadata": {},
   "outputs": [
    {
     "data": {
      "text/html": [
       "<div>\n",
       "<style scoped>\n",
       "    .dataframe tbody tr th:only-of-type {\n",
       "        vertical-align: middle;\n",
       "    }\n",
       "\n",
       "    .dataframe tbody tr th {\n",
       "        vertical-align: top;\n",
       "    }\n",
       "\n",
       "    .dataframe thead th {\n",
       "        text-align: right;\n",
       "    }\n",
       "</style>\n",
       "<table border=\"1\" class=\"dataframe\">\n",
       "  <thead>\n",
       "    <tr style=\"text-align: right;\">\n",
       "      <th></th>\n",
       "      <th>advertisement.transcription</th>\n",
       "      <th>advertiser.name</th>\n",
       "      <th>enslaved_person.gender</th>\n",
       "      <th>enslaved_person.min_birth_year</th>\n",
       "      <th>enslaved_person.max_birth_year</th>\n",
       "      <th>enslaved_person.literacy</th>\n",
       "      <th>enslaved_person.skills</th>\n",
       "      <th>enslaved_person_languages.language_id</th>\n",
       "      <th>enslaved_person_languages.does_speak</th>\n",
       "      <th>enslaved_person_name.fullname</th>\n",
       "      <th>...</th>\n",
       "      <th>runaway_event.id</th>\n",
       "      <th>runaway.id</th>\n",
       "      <th>enslaved_person.id</th>\n",
       "      <th>enslaved_person_languages.id</th>\n",
       "      <th>enslaved_person_name.id</th>\n",
       "      <th>runaway_location.id</th>\n",
       "      <th>runaway_location_location.id</th>\n",
       "      <th>runaway_enslavers.id</th>\n",
       "      <th>enslaver.id</th>\n",
       "      <th>runaway_reward.id</th>\n",
       "    </tr>\n",
       "  </thead>\n",
       "  <tbody>\n",
       "    <tr>\n",
       "      <th>0</th>\n",
       "      <td>TWENTY DOLLARS REWARD.\\nRanaway from the Subsc...</td>\n",
       "      <td>NaN</td>\n",
       "      <td>FEMALE</td>\n",
       "      <td>NaN</td>\n",
       "      <td>NaN</td>\n",
       "      <td>NOT_PROVIDED</td>\n",
       "      <td>nurse</td>\n",
       "      <td>NaN</td>\n",
       "      <td>NaN</td>\n",
       "      <td>Tenah</td>\n",
       "      <td>...</td>\n",
       "      <td>6bb670ae-7ec5-41e1-95b4-d4421015b17f</td>\n",
       "      <td>7c1d52e1-2b99-4372-a7c2-012430871cf1</td>\n",
       "      <td>664075ec-2c11-474e-b1ef-8ed120643658</td>\n",
       "      <td>NaN</td>\n",
       "      <td>4bfe8d11-72d9-40f9-812c-33a8de72bf42</td>\n",
       "      <td>1a9753b6-120c-4520-9f28-f29b42b15434</td>\n",
       "      <td>18ef9311-02fd-402d-8d07-7b7d8567806c</td>\n",
       "      <td>d7796415-33de-4725-b41b-451b47ba7266</td>\n",
       "      <td>ea1637f3-cfd3-4aef-be71-3e090e8526e1</td>\n",
       "      <td>30efbcb3-23c1-48f5-a349-c34daea5d1fb</td>\n",
       "    </tr>\n",
       "    <tr>\n",
       "      <th>1</th>\n",
       "      <td>TWENTY DOLLARS REWARD.\\nRanaway from the Subsc...</td>\n",
       "      <td>NaN</td>\n",
       "      <td>FEMALE</td>\n",
       "      <td>NaN</td>\n",
       "      <td>NaN</td>\n",
       "      <td>NOT_PROVIDED</td>\n",
       "      <td>nurse</td>\n",
       "      <td>NaN</td>\n",
       "      <td>NaN</td>\n",
       "      <td>Tenah</td>\n",
       "      <td>...</td>\n",
       "      <td>6bb670ae-7ec5-41e1-95b4-d4421015b17f</td>\n",
       "      <td>7c1d52e1-2b99-4372-a7c2-012430871cf1</td>\n",
       "      <td>664075ec-2c11-474e-b1ef-8ed120643658</td>\n",
       "      <td>NaN</td>\n",
       "      <td>4bfe8d11-72d9-40f9-812c-33a8de72bf42</td>\n",
       "      <td>1a9753b6-120c-4520-9f28-f29b42b15434</td>\n",
       "      <td>18ef9311-02fd-402d-8d07-7b7d8567806c</td>\n",
       "      <td>d7796415-33de-4725-b41b-451b47ba7266</td>\n",
       "      <td>ea1637f3-cfd3-4aef-be71-3e090e8526e1</td>\n",
       "      <td>0d52b7d0-7bdd-48c6-acb0-ff3db30a16bb</td>\n",
       "    </tr>\n",
       "    <tr>\n",
       "      <th>2</th>\n",
       "      <td>TWENTY DOLLARS REWARD.\\nRanaway from the Subsc...</td>\n",
       "      <td>NaN</td>\n",
       "      <td>FEMALE</td>\n",
       "      <td>NaN</td>\n",
       "      <td>NaN</td>\n",
       "      <td>NOT_PROVIDED</td>\n",
       "      <td>nurse</td>\n",
       "      <td>NaN</td>\n",
       "      <td>NaN</td>\n",
       "      <td>Tenah</td>\n",
       "      <td>...</td>\n",
       "      <td>6bb670ae-7ec5-41e1-95b4-d4421015b17f</td>\n",
       "      <td>7c1d52e1-2b99-4372-a7c2-012430871cf1</td>\n",
       "      <td>664075ec-2c11-474e-b1ef-8ed120643658</td>\n",
       "      <td>NaN</td>\n",
       "      <td>4bfe8d11-72d9-40f9-812c-33a8de72bf42</td>\n",
       "      <td>94d1b273-fbf4-404b-88e9-e6301cf9a5d0</td>\n",
       "      <td>fbfd2f31-4ad1-4bb4-a0cb-c27155ac6e66</td>\n",
       "      <td>d7796415-33de-4725-b41b-451b47ba7266</td>\n",
       "      <td>ea1637f3-cfd3-4aef-be71-3e090e8526e1</td>\n",
       "      <td>30efbcb3-23c1-48f5-a349-c34daea5d1fb</td>\n",
       "    </tr>\n",
       "    <tr>\n",
       "      <th>3</th>\n",
       "      <td>TWENTY DOLLARS REWARD.\\nRanaway from the Subsc...</td>\n",
       "      <td>NaN</td>\n",
       "      <td>FEMALE</td>\n",
       "      <td>NaN</td>\n",
       "      <td>NaN</td>\n",
       "      <td>NOT_PROVIDED</td>\n",
       "      <td>nurse</td>\n",
       "      <td>NaN</td>\n",
       "      <td>NaN</td>\n",
       "      <td>Tenah</td>\n",
       "      <td>...</td>\n",
       "      <td>6bb670ae-7ec5-41e1-95b4-d4421015b17f</td>\n",
       "      <td>7c1d52e1-2b99-4372-a7c2-012430871cf1</td>\n",
       "      <td>664075ec-2c11-474e-b1ef-8ed120643658</td>\n",
       "      <td>NaN</td>\n",
       "      <td>4bfe8d11-72d9-40f9-812c-33a8de72bf42</td>\n",
       "      <td>94d1b273-fbf4-404b-88e9-e6301cf9a5d0</td>\n",
       "      <td>fbfd2f31-4ad1-4bb4-a0cb-c27155ac6e66</td>\n",
       "      <td>d7796415-33de-4725-b41b-451b47ba7266</td>\n",
       "      <td>ea1637f3-cfd3-4aef-be71-3e090e8526e1</td>\n",
       "      <td>0d52b7d0-7bdd-48c6-acb0-ff3db30a16bb</td>\n",
       "    </tr>\n",
       "    <tr>\n",
       "      <th>4</th>\n",
       "      <td>TWENTY DOLLARS REWARD.\\nRanaway from the Subsc...</td>\n",
       "      <td>NaN</td>\n",
       "      <td>FEMALE</td>\n",
       "      <td>NaN</td>\n",
       "      <td>NaN</td>\n",
       "      <td>NOT_PROVIDED</td>\n",
       "      <td>nurse</td>\n",
       "      <td>NaN</td>\n",
       "      <td>NaN</td>\n",
       "      <td>Tenah</td>\n",
       "      <td>...</td>\n",
       "      <td>6bb670ae-7ec5-41e1-95b4-d4421015b17f</td>\n",
       "      <td>7c1d52e1-2b99-4372-a7c2-012430871cf1</td>\n",
       "      <td>664075ec-2c11-474e-b1ef-8ed120643658</td>\n",
       "      <td>NaN</td>\n",
       "      <td>4bfe8d11-72d9-40f9-812c-33a8de72bf42</td>\n",
       "      <td>68ef4c2a-da28-44d2-a17c-35cd6b364a66</td>\n",
       "      <td>824497c1-56d0-4310-a9f1-d5e63c75006f</td>\n",
       "      <td>d7796415-33de-4725-b41b-451b47ba7266</td>\n",
       "      <td>ea1637f3-cfd3-4aef-be71-3e090e8526e1</td>\n",
       "      <td>30efbcb3-23c1-48f5-a349-c34daea5d1fb</td>\n",
       "    </tr>\n",
       "  </tbody>\n",
       "</table>\n",
       "<p>5 rows × 53 columns</p>\n",
       "</div>"
      ],
      "text/plain": [
       "                         advertisement.transcription advertiser.name  \\\n",
       "0  TWENTY DOLLARS REWARD.\\nRanaway from the Subsc...             NaN   \n",
       "1  TWENTY DOLLARS REWARD.\\nRanaway from the Subsc...             NaN   \n",
       "2  TWENTY DOLLARS REWARD.\\nRanaway from the Subsc...             NaN   \n",
       "3  TWENTY DOLLARS REWARD.\\nRanaway from the Subsc...             NaN   \n",
       "4  TWENTY DOLLARS REWARD.\\nRanaway from the Subsc...             NaN   \n",
       "\n",
       "  enslaved_person.gender  enslaved_person.min_birth_year  \\\n",
       "0                 FEMALE                             NaN   \n",
       "1                 FEMALE                             NaN   \n",
       "2                 FEMALE                             NaN   \n",
       "3                 FEMALE                             NaN   \n",
       "4                 FEMALE                             NaN   \n",
       "\n",
       "   enslaved_person.max_birth_year enslaved_person.literacy  \\\n",
       "0                             NaN             NOT_PROVIDED   \n",
       "1                             NaN             NOT_PROVIDED   \n",
       "2                             NaN             NOT_PROVIDED   \n",
       "3                             NaN             NOT_PROVIDED   \n",
       "4                             NaN             NOT_PROVIDED   \n",
       "\n",
       "  enslaved_person.skills enslaved_person_languages.language_id  \\\n",
       "0                  nurse                                   NaN   \n",
       "1                  nurse                                   NaN   \n",
       "2                  nurse                                   NaN   \n",
       "3                  nurse                                   NaN   \n",
       "4                  nurse                                   NaN   \n",
       "\n",
       "  enslaved_person_languages.does_speak enslaved_person_name.fullname  ...  \\\n",
       "0                                  NaN                         Tenah  ...   \n",
       "1                                  NaN                         Tenah  ...   \n",
       "2                                  NaN                         Tenah  ...   \n",
       "3                                  NaN                         Tenah  ...   \n",
       "4                                  NaN                         Tenah  ...   \n",
       "\n",
       "                       runaway_event.id                            runaway.id  \\\n",
       "0  6bb670ae-7ec5-41e1-95b4-d4421015b17f  7c1d52e1-2b99-4372-a7c2-012430871cf1   \n",
       "1  6bb670ae-7ec5-41e1-95b4-d4421015b17f  7c1d52e1-2b99-4372-a7c2-012430871cf1   \n",
       "2  6bb670ae-7ec5-41e1-95b4-d4421015b17f  7c1d52e1-2b99-4372-a7c2-012430871cf1   \n",
       "3  6bb670ae-7ec5-41e1-95b4-d4421015b17f  7c1d52e1-2b99-4372-a7c2-012430871cf1   \n",
       "4  6bb670ae-7ec5-41e1-95b4-d4421015b17f  7c1d52e1-2b99-4372-a7c2-012430871cf1   \n",
       "\n",
       "                     enslaved_person.id enslaved_person_languages.id  \\\n",
       "0  664075ec-2c11-474e-b1ef-8ed120643658                          NaN   \n",
       "1  664075ec-2c11-474e-b1ef-8ed120643658                          NaN   \n",
       "2  664075ec-2c11-474e-b1ef-8ed120643658                          NaN   \n",
       "3  664075ec-2c11-474e-b1ef-8ed120643658                          NaN   \n",
       "4  664075ec-2c11-474e-b1ef-8ed120643658                          NaN   \n",
       "\n",
       "                enslaved_person_name.id                   runaway_location.id  \\\n",
       "0  4bfe8d11-72d9-40f9-812c-33a8de72bf42  1a9753b6-120c-4520-9f28-f29b42b15434   \n",
       "1  4bfe8d11-72d9-40f9-812c-33a8de72bf42  1a9753b6-120c-4520-9f28-f29b42b15434   \n",
       "2  4bfe8d11-72d9-40f9-812c-33a8de72bf42  94d1b273-fbf4-404b-88e9-e6301cf9a5d0   \n",
       "3  4bfe8d11-72d9-40f9-812c-33a8de72bf42  94d1b273-fbf4-404b-88e9-e6301cf9a5d0   \n",
       "4  4bfe8d11-72d9-40f9-812c-33a8de72bf42  68ef4c2a-da28-44d2-a17c-35cd6b364a66   \n",
       "\n",
       "           runaway_location_location.id                  runaway_enslavers.id  \\\n",
       "0  18ef9311-02fd-402d-8d07-7b7d8567806c  d7796415-33de-4725-b41b-451b47ba7266   \n",
       "1  18ef9311-02fd-402d-8d07-7b7d8567806c  d7796415-33de-4725-b41b-451b47ba7266   \n",
       "2  fbfd2f31-4ad1-4bb4-a0cb-c27155ac6e66  d7796415-33de-4725-b41b-451b47ba7266   \n",
       "3  fbfd2f31-4ad1-4bb4-a0cb-c27155ac6e66  d7796415-33de-4725-b41b-451b47ba7266   \n",
       "4  824497c1-56d0-4310-a9f1-d5e63c75006f  d7796415-33de-4725-b41b-451b47ba7266   \n",
       "\n",
       "                            enslaver.id                     runaway_reward.id  \n",
       "0  ea1637f3-cfd3-4aef-be71-3e090e8526e1  30efbcb3-23c1-48f5-a349-c34daea5d1fb  \n",
       "1  ea1637f3-cfd3-4aef-be71-3e090e8526e1  0d52b7d0-7bdd-48c6-acb0-ff3db30a16bb  \n",
       "2  ea1637f3-cfd3-4aef-be71-3e090e8526e1  30efbcb3-23c1-48f5-a349-c34daea5d1fb  \n",
       "3  ea1637f3-cfd3-4aef-be71-3e090e8526e1  0d52b7d0-7bdd-48c6-acb0-ff3db30a16bb  \n",
       "4  ea1637f3-cfd3-4aef-be71-3e090e8526e1  30efbcb3-23c1-48f5-a349-c34daea5d1fb  \n",
       "\n",
       "[5 rows x 53 columns]"
      ]
     },
     "execution_count": 2,
     "metadata": {},
     "output_type": "execute_result"
    }
   ],
   "source": [
    "df = pd.read_csv('../data/raw/results.csv', encoding='latin1')\n",
    "df.head()"
   ]
  },
  {
   "cell_type": "code",
   "execution_count": 3,
   "metadata": {
    "collapsed": true
   },
   "outputs": [],
   "source": [
    "#rename columns with underscores for ease of use\n",
    "new_cols = []\n",
    "for c in df.columns.values:\n",
    "    new_cols.append(c.replace('.', '_'))\n",
    "df.columns = new_cols"
   ]
  },
  {
   "cell_type": "code",
   "execution_count": 4,
   "metadata": {},
   "outputs": [
    {
     "data": {
      "text/html": [
       "<div>\n",
       "<style scoped>\n",
       "    .dataframe tbody tr th:only-of-type {\n",
       "        vertical-align: middle;\n",
       "    }\n",
       "\n",
       "    .dataframe tbody tr th {\n",
       "        vertical-align: top;\n",
       "    }\n",
       "\n",
       "    .dataframe thead th {\n",
       "        text-align: right;\n",
       "    }\n",
       "</style>\n",
       "<table border=\"1\" class=\"dataframe\">\n",
       "  <thead>\n",
       "    <tr style=\"text-align: right;\">\n",
       "      <th></th>\n",
       "      <th>enslaved_person_min_birth_year</th>\n",
       "      <th>enslaved_person_max_birth_year</th>\n",
       "      <th>runaway_min_age</th>\n",
       "      <th>runaway_max_age</th>\n",
       "      <th>runaway_min_height</th>\n",
       "      <th>runaway_max_height</th>\n",
       "      <th>runaway_min_weight</th>\n",
       "      <th>runaway_max_weight</th>\n",
       "      <th>runaway_enslavers_enslaver_status</th>\n",
       "      <th>runaway_reward_amount</th>\n",
       "    </tr>\n",
       "  </thead>\n",
       "  <tbody>\n",
       "    <tr>\n",
       "      <th>count</th>\n",
       "      <td>0.0</td>\n",
       "      <td>0.0</td>\n",
       "      <td>18250.000000</td>\n",
       "      <td>18250.000000</td>\n",
       "      <td>18143.000000</td>\n",
       "      <td>18143.000000</td>\n",
       "      <td>17551.000000</td>\n",
       "      <td>17551.000000</td>\n",
       "      <td>0.0</td>\n",
       "      <td>13974.000000</td>\n",
       "    </tr>\n",
       "    <tr>\n",
       "      <th>mean</th>\n",
       "      <td>NaN</td>\n",
       "      <td>NaN</td>\n",
       "      <td>15.514137</td>\n",
       "      <td>16.255616</td>\n",
       "      <td>32.730640</td>\n",
       "      <td>33.286336</td>\n",
       "      <td>-2.074070</td>\n",
       "      <td>-1.873910</td>\n",
       "      <td>NaN</td>\n",
       "      <td>60.536711</td>\n",
       "    </tr>\n",
       "    <tr>\n",
       "      <th>std</th>\n",
       "      <td>NaN</td>\n",
       "      <td>NaN</td>\n",
       "      <td>18.882923</td>\n",
       "      <td>19.696801</td>\n",
       "      <td>37.877267</td>\n",
       "      <td>38.416593</td>\n",
       "      <td>32.758832</td>\n",
       "      <td>33.740506</td>\n",
       "      <td>NaN</td>\n",
       "      <td>224.179629</td>\n",
       "    </tr>\n",
       "    <tr>\n",
       "      <th>min</th>\n",
       "      <td>NaN</td>\n",
       "      <td>NaN</td>\n",
       "      <td>-9.000000</td>\n",
       "      <td>-9.000000</td>\n",
       "      <td>-9.000000</td>\n",
       "      <td>-9.000000</td>\n",
       "      <td>-9.000000</td>\n",
       "      <td>-9.000000</td>\n",
       "      <td>NaN</td>\n",
       "      <td>1.000000</td>\n",
       "    </tr>\n",
       "    <tr>\n",
       "      <th>25%</th>\n",
       "      <td>NaN</td>\n",
       "      <td>NaN</td>\n",
       "      <td>-9.000000</td>\n",
       "      <td>-9.000000</td>\n",
       "      <td>-9.000000</td>\n",
       "      <td>-9.000000</td>\n",
       "      <td>-9.000000</td>\n",
       "      <td>-9.000000</td>\n",
       "      <td>NaN</td>\n",
       "      <td>10.000000</td>\n",
       "    </tr>\n",
       "    <tr>\n",
       "      <th>50%</th>\n",
       "      <td>NaN</td>\n",
       "      <td>NaN</td>\n",
       "      <td>22.000000</td>\n",
       "      <td>22.000000</td>\n",
       "      <td>62.000000</td>\n",
       "      <td>62.000000</td>\n",
       "      <td>-9.000000</td>\n",
       "      <td>-9.000000</td>\n",
       "      <td>NaN</td>\n",
       "      <td>25.000000</td>\n",
       "    </tr>\n",
       "    <tr>\n",
       "      <th>75%</th>\n",
       "      <td>NaN</td>\n",
       "      <td>NaN</td>\n",
       "      <td>28.000000</td>\n",
       "      <td>30.000000</td>\n",
       "      <td>68.000000</td>\n",
       "      <td>68.000000</td>\n",
       "      <td>-9.000000</td>\n",
       "      <td>-9.000000</td>\n",
       "      <td>NaN</td>\n",
       "      <td>50.000000</td>\n",
       "    </tr>\n",
       "    <tr>\n",
       "      <th>max</th>\n",
       "      <td>NaN</td>\n",
       "      <td>NaN</td>\n",
       "      <td>501.000000</td>\n",
       "      <td>501.000000</td>\n",
       "      <td>213.000000</td>\n",
       "      <td>213.000000</td>\n",
       "      <td>200.000000</td>\n",
       "      <td>300.000000</td>\n",
       "      <td>NaN</td>\n",
       "      <td>10000.000000</td>\n",
       "    </tr>\n",
       "  </tbody>\n",
       "</table>\n",
       "</div>"
      ],
      "text/plain": [
       "       enslaved_person_min_birth_year  enslaved_person_max_birth_year  \\\n",
       "count                             0.0                             0.0   \n",
       "mean                              NaN                             NaN   \n",
       "std                               NaN                             NaN   \n",
       "min                               NaN                             NaN   \n",
       "25%                               NaN                             NaN   \n",
       "50%                               NaN                             NaN   \n",
       "75%                               NaN                             NaN   \n",
       "max                               NaN                             NaN   \n",
       "\n",
       "       runaway_min_age  runaway_max_age  runaway_min_height  \\\n",
       "count     18250.000000     18250.000000        18143.000000   \n",
       "mean         15.514137        16.255616           32.730640   \n",
       "std          18.882923        19.696801           37.877267   \n",
       "min          -9.000000        -9.000000           -9.000000   \n",
       "25%          -9.000000        -9.000000           -9.000000   \n",
       "50%          22.000000        22.000000           62.000000   \n",
       "75%          28.000000        30.000000           68.000000   \n",
       "max         501.000000       501.000000          213.000000   \n",
       "\n",
       "       runaway_max_height  runaway_min_weight  runaway_max_weight  \\\n",
       "count        18143.000000        17551.000000        17551.000000   \n",
       "mean            33.286336           -2.074070           -1.873910   \n",
       "std             38.416593           32.758832           33.740506   \n",
       "min             -9.000000           -9.000000           -9.000000   \n",
       "25%             -9.000000           -9.000000           -9.000000   \n",
       "50%             62.000000           -9.000000           -9.000000   \n",
       "75%             68.000000           -9.000000           -9.000000   \n",
       "max            213.000000          200.000000          300.000000   \n",
       "\n",
       "       runaway_enslavers_enslaver_status  runaway_reward_amount  \n",
       "count                                0.0           13974.000000  \n",
       "mean                                 NaN              60.536711  \n",
       "std                                  NaN             224.179629  \n",
       "min                                  NaN               1.000000  \n",
       "25%                                  NaN              10.000000  \n",
       "50%                                  NaN              25.000000  \n",
       "75%                                  NaN              50.000000  \n",
       "max                                  NaN           10000.000000  "
      ]
     },
     "execution_count": 4,
     "metadata": {},
     "output_type": "execute_result"
    }
   ],
   "source": [
    "df.describe()"
   ]
  },
  {
   "cell_type": "code",
   "execution_count": 5,
   "metadata": {},
   "outputs": [],
   "source": [
    "#drop columns with little/no data. -9 seems to be no entry value, replace with nan\n",
    "drop_cols= ['enslaved_person_min_birth_year', 'enslaved_person_max_birth_year', 'runaway_enslavers_enslaver_status']\n",
    "df.drop(drop_cols, axis = 1, inplace = True)\n",
    "_ = df.replace(-9, np.nan, inplace = True)"
   ]
  },
  {
   "cell_type": "code",
   "execution_count": 6,
   "metadata": {},
   "outputs": [
    {
     "data": {
      "text/html": [
       "<div>\n",
       "<style scoped>\n",
       "    .dataframe tbody tr th:only-of-type {\n",
       "        vertical-align: middle;\n",
       "    }\n",
       "\n",
       "    .dataframe tbody tr th {\n",
       "        vertical-align: top;\n",
       "    }\n",
       "\n",
       "    .dataframe thead th {\n",
       "        text-align: right;\n",
       "    }\n",
       "</style>\n",
       "<table border=\"1\" class=\"dataframe\">\n",
       "  <thead>\n",
       "    <tr style=\"text-align: right;\">\n",
       "      <th></th>\n",
       "      <th>runaway_min_age</th>\n",
       "      <th>runaway_max_age</th>\n",
       "      <th>runaway_min_height</th>\n",
       "      <th>runaway_max_height</th>\n",
       "      <th>runaway_min_weight</th>\n",
       "      <th>runaway_max_weight</th>\n",
       "      <th>runaway_reward_amount</th>\n",
       "    </tr>\n",
       "  </thead>\n",
       "  <tbody>\n",
       "    <tr>\n",
       "      <th>count</th>\n",
       "      <td>12636.000000</td>\n",
       "      <td>12636.000000</td>\n",
       "      <td>9999.000000</td>\n",
       "      <td>9999.000000</td>\n",
       "      <td>764.000000</td>\n",
       "      <td>764.000000</td>\n",
       "      <td>13974.000000</td>\n",
       "    </tr>\n",
       "    <tr>\n",
       "      <th>mean</th>\n",
       "      <td>26.405429</td>\n",
       "      <td>27.476337</td>\n",
       "      <td>66.719472</td>\n",
       "      <td>67.727773</td>\n",
       "      <td>150.106021</td>\n",
       "      <td>154.704188</td>\n",
       "      <td>60.536711</td>\n",
       "    </tr>\n",
       "    <tr>\n",
       "      <th>std</th>\n",
       "      <td>11.373335</td>\n",
       "      <td>12.289078</td>\n",
       "      <td>5.427403</td>\n",
       "      <td>5.925852</td>\n",
       "      <td>20.955874</td>\n",
       "      <td>22.783934</td>\n",
       "      <td>224.179629</td>\n",
       "    </tr>\n",
       "    <tr>\n",
       "      <th>min</th>\n",
       "      <td>1.000000</td>\n",
       "      <td>1.000000</td>\n",
       "      <td>4.000000</td>\n",
       "      <td>5.000000</td>\n",
       "      <td>5.000000</td>\n",
       "      <td>9.000000</td>\n",
       "      <td>1.000000</td>\n",
       "    </tr>\n",
       "    <tr>\n",
       "      <th>25%</th>\n",
       "      <td>21.000000</td>\n",
       "      <td>22.000000</td>\n",
       "      <td>65.000000</td>\n",
       "      <td>66.000000</td>\n",
       "      <td>140.000000</td>\n",
       "      <td>140.000000</td>\n",
       "      <td>10.000000</td>\n",
       "    </tr>\n",
       "    <tr>\n",
       "      <th>50%</th>\n",
       "      <td>25.000000</td>\n",
       "      <td>25.000000</td>\n",
       "      <td>67.000000</td>\n",
       "      <td>68.000000</td>\n",
       "      <td>145.000000</td>\n",
       "      <td>150.000000</td>\n",
       "      <td>25.000000</td>\n",
       "    </tr>\n",
       "    <tr>\n",
       "      <th>75%</th>\n",
       "      <td>30.000000</td>\n",
       "      <td>30.000000</td>\n",
       "      <td>69.000000</td>\n",
       "      <td>70.000000</td>\n",
       "      <td>165.000000</td>\n",
       "      <td>170.000000</td>\n",
       "      <td>50.000000</td>\n",
       "    </tr>\n",
       "    <tr>\n",
       "      <th>max</th>\n",
       "      <td>501.000000</td>\n",
       "      <td>501.000000</td>\n",
       "      <td>213.000000</td>\n",
       "      <td>213.000000</td>\n",
       "      <td>200.000000</td>\n",
       "      <td>300.000000</td>\n",
       "      <td>10000.000000</td>\n",
       "    </tr>\n",
       "  </tbody>\n",
       "</table>\n",
       "</div>"
      ],
      "text/plain": [
       "       runaway_min_age  runaway_max_age  runaway_min_height  \\\n",
       "count     12636.000000     12636.000000         9999.000000   \n",
       "mean         26.405429        27.476337           66.719472   \n",
       "std          11.373335        12.289078            5.427403   \n",
       "min           1.000000         1.000000            4.000000   \n",
       "25%          21.000000        22.000000           65.000000   \n",
       "50%          25.000000        25.000000           67.000000   \n",
       "75%          30.000000        30.000000           69.000000   \n",
       "max         501.000000       501.000000          213.000000   \n",
       "\n",
       "       runaway_max_height  runaway_min_weight  runaway_max_weight  \\\n",
       "count         9999.000000          764.000000          764.000000   \n",
       "mean            67.727773          150.106021          154.704188   \n",
       "std              5.925852           20.955874           22.783934   \n",
       "min              5.000000            5.000000            9.000000   \n",
       "25%             66.000000          140.000000          140.000000   \n",
       "50%             68.000000          145.000000          150.000000   \n",
       "75%             70.000000          165.000000          170.000000   \n",
       "max            213.000000          200.000000          300.000000   \n",
       "\n",
       "       runaway_reward_amount  \n",
       "count           13974.000000  \n",
       "mean               60.536711  \n",
       "std               224.179629  \n",
       "min                 1.000000  \n",
       "25%                10.000000  \n",
       "50%                25.000000  \n",
       "75%                50.000000  \n",
       "max             10000.000000  "
      ]
     },
     "execution_count": 6,
     "metadata": {},
     "output_type": "execute_result"
    }
   ],
   "source": [
    "df.describe()"
   ]
  },
  {
   "cell_type": "code",
   "execution_count": 7,
   "metadata": {},
   "outputs": [
    {
     "data": {
      "image/png": "[encoded data removed]",
      "text/plain": [
       "<Figure size 432x288 with 1 Axes>"
      ]
     },
     "metadata": {
      "needs_background": "light"
     },
     "output_type": "display_data"
    }
   ],
   "source": [
    "df['runaway_reward_amount'].hist(color = 'lightblue');"
   ]
  },
  {
   "cell_type": "code",
   "execution_count": 8,
   "metadata": {},
   "outputs": [
    {
     "data": {
      "image/png": "[encoded data removed]",
      "text/plain": [
       "<Figure size 432x288 with 1 Axes>"
      ]
     },
     "metadata": {
      "needs_background": "light"
     },
     "output_type": "display_data"
    }
   ],
   "source": [
    "plt.title('ECDF Plot of Reward')\n",
    "plt.xlim(0, 500)\n",
    "sns.ecdfplot(data=df, x=\"runaway_reward_amount\");"
   ]
  },
  {
   "cell_type": "code",
   "execution_count": 9,
   "metadata": {},
   "outputs": [
    {
     "data": {
      "image/png": "[encoded data removed]",
      "text/plain": [
       "<Figure size 432x288 with 1 Axes>"
      ]
     },
     "metadata": {
      "needs_background": "light"
     },
     "output_type": "display_data"
    }
   ],
   "source": [
    "plt.title('ECDF plot of Minimum Age')\n",
    "plt.xlim(0, 100)\n",
    "sns.ecdfplot(data=df, x=\"runaway_min_age\");"
   ]
  },
  {
   "cell_type": "code",
   "execution_count": 10,
   "metadata": {},
   "outputs": [
    {
     "data": {
      "image/png": "[encoded data removed]",
      "text/plain": [
       "<Figure size 432x288 with 1 Axes>"
      ]
     },
     "metadata": {
      "needs_background": "light"
     },
     "output_type": "display_data"
    }
   ],
   "source": [
    "plt.title('ECDF plot of Maximum Age')\n",
    "plt.xlim(0, 100)\n",
    "sns.ecdfplot(data=df, x=\"runaway_max_age\");"
   ]
  },
  {
   "cell_type": "code",
   "execution_count": 11,
   "metadata": {
    "collapsed": true
   },
   "outputs": [],
   "source": [
    "max_values = {'runaway_min_age': 100,\n",
    "              'runaway_max_age': 100,\n",
    "              'runaway_min_height': 90,\n",
    "              'runaway_max_height': 90,\n",
    "              'runaway_min_weight': 250,\n",
    "              'runaway_max_weight': 350,\n",
    "              'runaway_reward_amount': 300}"
   ]
  },
  {
   "cell_type": "code",
   "execution_count": 12,
   "metadata": {
    "collapsed": true
   },
   "outputs": [],
   "source": [
    "min_values = {'runaway_min_age': 0,\n",
    "              'runaway_max_age': 0,\n",
    "              'runaway_min_height': 24,\n",
    "              'runaway_max_height': 24,\n",
    "              'runaway_min_weight': 50,\n",
    "              'runaway_max_weight': 50\n",
    "             }"
   ]
  },
  {
   "cell_type": "code",
   "execution_count": 13,
   "metadata": {
    "scrolled": false
   },
   "outputs": [
    {
     "name": "stdout",
     "output_type": "stream",
     "text": [
      "384\n"
     ]
    }
   ],
   "source": [
    "#drop rows with data out of range: age, height, weight\n",
    "idxs_to_drop = []\n",
    "idxs = []\n",
    "for k,v in max_values.items():\n",
    "    t = idxs.append(df.query('{} > {}' .format(k,v)).index.values)\n",
    "for k,v in min_values.items():\n",
    "    idxs.append(df.query('{} < {}' .format(k,v)).index.values)\n",
    "for i in idxs:\n",
    "    for j in i:\n",
    "        if j not in idxs_to_drop:\n",
    "            idxs_to_drop.append(j)\n",
    "print(len(idxs_to_drop))"
   ]
  },
  {
   "cell_type": "code",
   "execution_count": 14,
   "metadata": {
    "collapsed": true
   },
   "outputs": [],
   "source": [
    "df.drop(idxs_to_drop, inplace = True)"
   ]
  },
  {
   "cell_type": "code",
   "execution_count": 15,
   "metadata": {},
   "outputs": [
    {
     "data": {
      "text/html": [
       "<div>\n",
       "<style scoped>\n",
       "    .dataframe tbody tr th:only-of-type {\n",
       "        vertical-align: middle;\n",
       "    }\n",
       "\n",
       "    .dataframe tbody tr th {\n",
       "        vertical-align: top;\n",
       "    }\n",
       "\n",
       "    .dataframe thead th {\n",
       "        text-align: right;\n",
       "    }\n",
       "</style>\n",
       "<table border=\"1\" class=\"dataframe\">\n",
       "  <thead>\n",
       "    <tr style=\"text-align: right;\">\n",
       "      <th></th>\n",
       "      <th>runaway_min_age</th>\n",
       "      <th>runaway_max_age</th>\n",
       "      <th>runaway_min_height</th>\n",
       "      <th>runaway_max_height</th>\n",
       "      <th>runaway_min_weight</th>\n",
       "      <th>runaway_max_weight</th>\n",
       "      <th>runaway_reward_amount</th>\n",
       "    </tr>\n",
       "  </thead>\n",
       "  <tbody>\n",
       "    <tr>\n",
       "      <th>count</th>\n",
       "      <td>12361.000000</td>\n",
       "      <td>12361.000000</td>\n",
       "      <td>9757.000000</td>\n",
       "      <td>9757.000000</td>\n",
       "      <td>755.000000</td>\n",
       "      <td>755.000000</td>\n",
       "      <td>13611.000000</td>\n",
       "    </tr>\n",
       "    <tr>\n",
       "      <th>mean</th>\n",
       "      <td>26.248928</td>\n",
       "      <td>27.283634</td>\n",
       "      <td>66.780773</td>\n",
       "      <td>67.397561</td>\n",
       "      <td>150.358940</td>\n",
       "      <td>155.001325</td>\n",
       "      <td>40.345089</td>\n",
       "    </tr>\n",
       "    <tr>\n",
       "      <th>std</th>\n",
       "      <td>8.882891</td>\n",
       "      <td>9.953287</td>\n",
       "      <td>4.093742</td>\n",
       "      <td>4.204915</td>\n",
       "      <td>19.624517</td>\n",
       "      <td>21.600085</td>\n",
       "      <td>46.453543</td>\n",
       "    </tr>\n",
       "    <tr>\n",
       "      <th>min</th>\n",
       "      <td>1.000000</td>\n",
       "      <td>1.000000</td>\n",
       "      <td>36.000000</td>\n",
       "      <td>36.000000</td>\n",
       "      <td>60.000000</td>\n",
       "      <td>60.000000</td>\n",
       "      <td>1.000000</td>\n",
       "    </tr>\n",
       "    <tr>\n",
       "      <th>25%</th>\n",
       "      <td>21.000000</td>\n",
       "      <td>21.000000</td>\n",
       "      <td>65.000000</td>\n",
       "      <td>65.000000</td>\n",
       "      <td>140.000000</td>\n",
       "      <td>140.000000</td>\n",
       "      <td>10.000000</td>\n",
       "    </tr>\n",
       "    <tr>\n",
       "      <th>50%</th>\n",
       "      <td>25.000000</td>\n",
       "      <td>25.000000</td>\n",
       "      <td>67.000000</td>\n",
       "      <td>68.000000</td>\n",
       "      <td>145.000000</td>\n",
       "      <td>150.000000</td>\n",
       "      <td>25.000000</td>\n",
       "    </tr>\n",
       "    <tr>\n",
       "      <th>75%</th>\n",
       "      <td>30.000000</td>\n",
       "      <td>30.000000</td>\n",
       "      <td>69.000000</td>\n",
       "      <td>70.000000</td>\n",
       "      <td>164.000000</td>\n",
       "      <td>170.000000</td>\n",
       "      <td>50.000000</td>\n",
       "    </tr>\n",
       "    <tr>\n",
       "      <th>max</th>\n",
       "      <td>95.000000</td>\n",
       "      <td>100.000000</td>\n",
       "      <td>83.000000</td>\n",
       "      <td>84.000000</td>\n",
       "      <td>200.000000</td>\n",
       "      <td>300.000000</td>\n",
       "      <td>300.000000</td>\n",
       "    </tr>\n",
       "  </tbody>\n",
       "</table>\n",
       "</div>"
      ],
      "text/plain": [
       "       runaway_min_age  runaway_max_age  runaway_min_height  \\\n",
       "count     12361.000000     12361.000000         9757.000000   \n",
       "mean         26.248928        27.283634           66.780773   \n",
       "std           8.882891         9.953287            4.093742   \n",
       "min           1.000000         1.000000           36.000000   \n",
       "25%          21.000000        21.000000           65.000000   \n",
       "50%          25.000000        25.000000           67.000000   \n",
       "75%          30.000000        30.000000           69.000000   \n",
       "max          95.000000       100.000000           83.000000   \n",
       "\n",
       "       runaway_max_height  runaway_min_weight  runaway_max_weight  \\\n",
       "count         9757.000000          755.000000          755.000000   \n",
       "mean            67.397561          150.358940          155.001325   \n",
       "std              4.204915           19.624517           21.600085   \n",
       "min             36.000000           60.000000           60.000000   \n",
       "25%             65.000000          140.000000          140.000000   \n",
       "50%             68.000000          145.000000          150.000000   \n",
       "75%             70.000000          164.000000          170.000000   \n",
       "max             84.000000          200.000000          300.000000   \n",
       "\n",
       "       runaway_reward_amount  \n",
       "count           13611.000000  \n",
       "mean               40.345089  \n",
       "std                46.453543  \n",
       "min                 1.000000  \n",
       "25%                10.000000  \n",
       "50%                25.000000  \n",
       "75%                50.000000  \n",
       "max               300.000000  "
      ]
     },
     "execution_count": 15,
     "metadata": {},
     "output_type": "execute_result"
    }
   ],
   "source": [
    "df.describe()"
   ]
  },
  {
   "cell_type": "code",
   "execution_count": 16,
   "metadata": {},
   "outputs": [
    {
     "data": {
      "image/png": "[encoded data removed]",
      "text/plain": [
       "<Figure size 432x288 with 1 Axes>"
      ]
     },
     "metadata": {
      "needs_background": "light"
     },
     "output_type": "display_data"
    }
   ],
   "source": [
    "plt.title('ECDF Plot of Reward')\n",
    "plt.xlim(0, 500)\n",
    "sns.ecdfplot(data=df, x=\"runaway_reward_amount\");"
   ]
  },
  {
   "cell_type": "code",
   "execution_count": 17,
   "metadata": {},
   "outputs": [
    {
     "data": {
      "image/png": "[encoded data removed]",
      "text/plain": [
       "<Figure size 432x288 with 1 Axes>"
      ]
     },
     "metadata": {
      "needs_background": "light"
     },
     "output_type": "display_data"
    }
   ],
   "source": [
    "plt.title('ECDF plot of Minimum Age')\n",
    "plt.xlim(0, 100)\n",
    "sns.ecdfplot(data=df, x=\"runaway_min_age\");"
   ]
  },
  {
   "cell_type": "code",
   "execution_count": 18,
   "metadata": {},
   "outputs": [
    {
     "data": {
      "image/png": "[encoded data removed]",
      "text/plain": [
       "<Figure size 432x288 with 1 Axes>"
      ]
     },
     "metadata": {
      "needs_background": "light"
     },
     "output_type": "display_data"
    }
   ],
   "source": [
    "plt.title('ECDF plot of Maximum Age')\n",
    "plt.xlim(0, 100)\n",
    "sns.ecdfplot(data=df, x=\"runaway_max_age\");"
   ]
  },
  {
   "cell_type": "code",
   "execution_count": 19,
   "metadata": {},
   "outputs": [
    {
     "data": {
      "image/png": "[encoded data removed]",
      "text/plain": [
       "<Figure size 432x288 with 1 Axes>"
      ]
     },
     "metadata": {
      "needs_background": "light"
     },
     "output_type": "display_data"
    }
   ],
   "source": [
    "#plot rewards\n",
    "plt.title('Reward Offered')\n",
    "plt.hist(df.runaway_reward_amount, color = 'lightblue');"
   ]
  },
  {
   "cell_type": "code",
   "execution_count": 20,
   "metadata": {
    "collapsed": true
   },
   "outputs": [],
   "source": [
    "def get_len(x):\n",
    "    try:\n",
    "        t_len = len(x.split(' '))\n",
    "    except:\n",
    "        t_len = 0\n",
    "    return t_len\n",
    "len_texts = df['advertisement_transcription'][:].apply(lambda x: get_len(x))\n",
    "df['len'] = np.array(len_texts)"
   ]
  },
  {
   "cell_type": "code",
   "execution_count": 21,
   "metadata": {},
   "outputs": [
    {
     "data": {
      "image/png": "[encoded data removed]",
      "text/plain": [
       "<Figure size 432x288 with 1 Axes>"
      ]
     },
     "metadata": {
      "needs_background": "light"
     },
     "output_type": "display_data"
    }
   ],
   "source": [
    "#word count in texts\n",
    "plt.title('Word Counts')\n",
    "plt.hist(df.len, color = 'lightblue');"
   ]
  },
  {
   "cell_type": "code",
   "execution_count": 22,
   "metadata": {},
   "outputs": [
    {
     "data": {
      "text/plain": [
       "4935"
      ]
     },
     "execution_count": 22,
     "metadata": {},
     "output_type": "execute_result"
    }
   ],
   "source": [
    "len(df.query('len <= 383')['advertisement_id'].unique())"
   ]
  },
  {
   "cell_type": "code",
   "execution_count": 23,
   "metadata": {
    "collapsed": true
   },
   "outputs": [],
   "source": [
    "enslaved_count = []\n",
    "for unique_ad in df['advertisement_id'].unique():\n",
    "    t_df = df.query('advertisement_id == \"{}\"' .format(unique_ad))['enslaved_person_id']\n",
    "    if len(t_df.unique()) > 1:\n",
    "        enslaved_count.append(unique_ad)"
   ]
  },
  {
   "cell_type": "code",
   "execution_count": 24,
   "metadata": {
    "collapsed": true
   },
   "outputs": [],
   "source": [
    "def has_multiple(x):\n",
    "    t_mult = 0\n",
    "    if x in enslaved_count:\n",
    "        t_mult = 1\n",
    "    return t_mult\n",
    "\n",
    "df['multiple_persons'] = df['advertisement_id'].apply(lambda x: has_multiple(x))"
   ]
  },
  {
   "cell_type": "code",
   "execution_count": 25,
   "metadata": {
    "collapsed": true
   },
   "outputs": [],
   "source": [
    "df = df.query('multiple_persons == 0')"
   ]
  },
  {
   "cell_type": "code",
   "execution_count": 26,
   "metadata": {},
   "outputs": [
    {
     "data": {
      "text/plain": [
       "Index(['advertisement_transcription', 'advertiser_name',\n",
       "       'enslaved_person_gender', 'enslaved_person_literacy',\n",
       "       'enslaved_person_skills', 'enslaved_person_languages_language_id',\n",
       "       'enslaved_person_languages_does_speak', 'enslaved_person_name_fullname',\n",
       "       'enslaver_fullname', 'enslaver_gender', 'newspaper_name',\n",
       "       'runaway_ran_before', 'runaway_profess_freedom',\n",
       "       'runaway_approximate_age', 'runaway_min_age', 'runaway_max_age',\n",
       "       'runaway_racial_description', 'runaway_ethnic_description',\n",
       "       'runaway_approximate_height', 'runaway_min_height',\n",
       "       'runaway_max_height', 'runaway_approximate_weight',\n",
       "       'runaway_min_weight', 'runaway_max_weight', 'runaway_injuries_scars',\n",
       "       'runaway_self_presentation', 'runaway_other_physical_descriptions',\n",
       "       'runaway_possessions', 'runaway_reward_amount',\n",
       "       'runaway_reward_currency', 'runaway_reward_criteria',\n",
       "       'runaway_location_location_id', 'runaway_location_type',\n",
       "       'runaway_location_reason', 'runaway_location_location_name',\n",
       "       'runaway_location_location_city', 'runaway_location_location_state',\n",
       "       'advertisement_id', 'advertiser_id', 'newspaper_id', 'runaway_event_id',\n",
       "       'runaway_id', 'enslaved_person_id', 'enslaved_person_languages_id',\n",
       "       'enslaved_person_name_id', 'runaway_location_id',\n",
       "       'runaway_location_location_id', 'runaway_enslavers_id', 'enslaver_id',\n",
       "       'runaway_reward_id', 'len', 'multiple_persons'],\n",
       "      dtype='object')"
      ]
     },
     "execution_count": 26,
     "metadata": {},
     "output_type": "execute_result"
    }
   ],
   "source": [
    "df.columns"
   ]
  },
  {
   "cell_type": "code",
   "execution_count": 27,
   "metadata": {
    "collapsed": true
   },
   "outputs": [],
   "source": [
    "id_cols = ['enslaved_person_languages_language_id', 'runaway_location_location_id',\\\n",
    "           'advertiser_id', 'newspaper_id', 'runaway_event_id', 'runaway_id', 'enslaved_person_id',\\\n",
    "           'enslaved_person_languages_id', 'enslaved_person_name_id', 'runaway_location_id',\\\n",
    "           'runaway_location_location_id', 'runaway_enslavers_id', 'enslaver_id','runaway_reward_id']"
   ]
  },
  {
   "cell_type": "code",
   "execution_count": 28,
   "metadata": {
    "collapsed": true
   },
   "outputs": [],
   "source": [
    "df.drop(id_cols, axis = 1, inplace = True)"
   ]
  },
  {
   "cell_type": "code",
   "execution_count": 29,
   "metadata": {},
   "outputs": [
    {
     "data": {
      "text/html": [
       "<div>\n",
       "<style scoped>\n",
       "    .dataframe tbody tr th:only-of-type {\n",
       "        vertical-align: middle;\n",
       "    }\n",
       "\n",
       "    .dataframe tbody tr th {\n",
       "        vertical-align: top;\n",
       "    }\n",
       "\n",
       "    .dataframe thead th {\n",
       "        text-align: right;\n",
       "    }\n",
       "</style>\n",
       "<table border=\"1\" class=\"dataframe\">\n",
       "  <thead>\n",
       "    <tr style=\"text-align: right;\">\n",
       "      <th></th>\n",
       "      <th>runaway_min_age</th>\n",
       "      <th>runaway_max_age</th>\n",
       "      <th>runaway_min_height</th>\n",
       "      <th>runaway_max_height</th>\n",
       "      <th>runaway_min_weight</th>\n",
       "      <th>runaway_max_weight</th>\n",
       "      <th>runaway_reward_amount</th>\n",
       "      <th>len</th>\n",
       "      <th>multiple_persons</th>\n",
       "    </tr>\n",
       "  </thead>\n",
       "  <tbody>\n",
       "    <tr>\n",
       "      <th>count</th>\n",
       "      <td>8210.000000</td>\n",
       "      <td>8210.000000</td>\n",
       "      <td>6853.000000</td>\n",
       "      <td>6853.000000</td>\n",
       "      <td>643.000000</td>\n",
       "      <td>643.000000</td>\n",
       "      <td>9037.000000</td>\n",
       "      <td>11568.000000</td>\n",
       "      <td>11568.0</td>\n",
       "    </tr>\n",
       "    <tr>\n",
       "      <th>mean</th>\n",
       "      <td>26.794519</td>\n",
       "      <td>27.800365</td>\n",
       "      <td>66.693273</td>\n",
       "      <td>67.301912</td>\n",
       "      <td>149.379471</td>\n",
       "      <td>153.858476</td>\n",
       "      <td>38.935487</td>\n",
       "      <td>146.199084</td>\n",
       "      <td>0.0</td>\n",
       "    </tr>\n",
       "    <tr>\n",
       "      <th>std</th>\n",
       "      <td>8.650327</td>\n",
       "      <td>9.626006</td>\n",
       "      <td>4.135533</td>\n",
       "      <td>4.222821</td>\n",
       "      <td>17.920794</td>\n",
       "      <td>20.430572</td>\n",
       "      <td>45.532922</td>\n",
       "      <td>120.296608</td>\n",
       "      <td>0.0</td>\n",
       "    </tr>\n",
       "    <tr>\n",
       "      <th>min</th>\n",
       "      <td>1.000000</td>\n",
       "      <td>1.000000</td>\n",
       "      <td>36.000000</td>\n",
       "      <td>36.000000</td>\n",
       "      <td>60.000000</td>\n",
       "      <td>100.000000</td>\n",
       "      <td>1.000000</td>\n",
       "      <td>0.000000</td>\n",
       "      <td>0.0</td>\n",
       "    </tr>\n",
       "    <tr>\n",
       "      <th>25%</th>\n",
       "      <td>21.000000</td>\n",
       "      <td>22.000000</td>\n",
       "      <td>65.000000</td>\n",
       "      <td>65.000000</td>\n",
       "      <td>140.000000</td>\n",
       "      <td>140.000000</td>\n",
       "      <td>10.000000</td>\n",
       "      <td>92.000000</td>\n",
       "      <td>0.0</td>\n",
       "    </tr>\n",
       "    <tr>\n",
       "      <th>50%</th>\n",
       "      <td>25.000000</td>\n",
       "      <td>25.000000</td>\n",
       "      <td>67.000000</td>\n",
       "      <td>68.000000</td>\n",
       "      <td>145.000000</td>\n",
       "      <td>145.000000</td>\n",
       "      <td>20.000000</td>\n",
       "      <td>124.000000</td>\n",
       "      <td>0.0</td>\n",
       "    </tr>\n",
       "    <tr>\n",
       "      <th>75%</th>\n",
       "      <td>30.000000</td>\n",
       "      <td>32.000000</td>\n",
       "      <td>69.000000</td>\n",
       "      <td>70.000000</td>\n",
       "      <td>160.000000</td>\n",
       "      <td>165.000000</td>\n",
       "      <td>50.000000</td>\n",
       "      <td>170.000000</td>\n",
       "      <td>0.0</td>\n",
       "    </tr>\n",
       "    <tr>\n",
       "      <th>max</th>\n",
       "      <td>95.000000</td>\n",
       "      <td>100.000000</td>\n",
       "      <td>83.000000</td>\n",
       "      <td>84.000000</td>\n",
       "      <td>200.000000</td>\n",
       "      <td>300.000000</td>\n",
       "      <td>300.000000</td>\n",
       "      <td>1456.000000</td>\n",
       "      <td>0.0</td>\n",
       "    </tr>\n",
       "  </tbody>\n",
       "</table>\n",
       "</div>"
      ],
      "text/plain": [
       "       runaway_min_age  runaway_max_age  runaway_min_height  \\\n",
       "count      8210.000000      8210.000000         6853.000000   \n",
       "mean         26.794519        27.800365           66.693273   \n",
       "std           8.650327         9.626006            4.135533   \n",
       "min           1.000000         1.000000           36.000000   \n",
       "25%          21.000000        22.000000           65.000000   \n",
       "50%          25.000000        25.000000           67.000000   \n",
       "75%          30.000000        32.000000           69.000000   \n",
       "max          95.000000       100.000000           83.000000   \n",
       "\n",
       "       runaway_max_height  runaway_min_weight  runaway_max_weight  \\\n",
       "count         6853.000000          643.000000          643.000000   \n",
       "mean            67.301912          149.379471          153.858476   \n",
       "std              4.222821           17.920794           20.430572   \n",
       "min             36.000000           60.000000          100.000000   \n",
       "25%             65.000000          140.000000          140.000000   \n",
       "50%             68.000000          145.000000          145.000000   \n",
       "75%             70.000000          160.000000          165.000000   \n",
       "max             84.000000          200.000000          300.000000   \n",
       "\n",
       "       runaway_reward_amount           len  multiple_persons  \n",
       "count            9037.000000  11568.000000           11568.0  \n",
       "mean               38.935487    146.199084               0.0  \n",
       "std                45.532922    120.296608               0.0  \n",
       "min                 1.000000      0.000000               0.0  \n",
       "25%                10.000000     92.000000               0.0  \n",
       "50%                20.000000    124.000000               0.0  \n",
       "75%                50.000000    170.000000               0.0  \n",
       "max               300.000000   1456.000000               0.0  "
      ]
     },
     "execution_count": 29,
     "metadata": {},
     "output_type": "execute_result"
    }
   ],
   "source": [
    "df.describe()"
   ]
  },
  {
   "cell_type": "code",
   "execution_count": 30,
   "metadata": {},
   "outputs": [
    {
     "data": {
      "image/png": "[encoded data removed]",
      "text/plain": [
       "<Figure size 432x288 with 1 Axes>"
      ]
     },
     "metadata": {
      "needs_background": "light"
     },
     "output_type": "display_data"
    }
   ],
   "source": [
    "sns.scatterplot(x = 'runaway_reward_amount', y = 'len', data = df);"
   ]
  },
  {
   "cell_type": "code",
   "execution_count": null,
   "metadata": {
    "collapsed": true
   },
   "outputs": [],
   "source": []
  }
 ],
 "metadata": {
  "kernelspec": {
   "display_name": "Python [conda env:py_3]",
   "language": "python",
   "name": "conda-env-py_3-py"
  },
  "language_info": {
   "codemirror_mode": {
    "name": "ipython",
    "version": 3
   },
   "file_extension": ".py",
   "mimetype": "text/x-python",
   "name": "python",
   "nbconvert_exporter": "python",
   "pygments_lexer": "ipython3",
   "version": "3.7.13"
  }
 },
 "nbformat": 4,
 "nbformat_minor": 2
}
