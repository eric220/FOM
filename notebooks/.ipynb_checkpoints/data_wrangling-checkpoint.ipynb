{
 "cells": [
  {
   "cell_type": "code",
   "execution_count": 1,
   "metadata": {
    "collapsed": true
   },
   "outputs": [],
   "source": [
    "import pandas as pd\n",
    "import numpy as np\n",
    "import nltk\n",
    "import nltk\n",
    "from nltk import word_tokenize, pos_tag\n",
    "from nltk.collocations import *\n",
    "from itertools import *\n",
    "from nltk.util import ngrams\n",
    "from nltk.corpus import stopwords\n",
    "from string import punctuation\n",
    "from nltk.corpus import stopwords\n",
    "import gensim\n",
    "import re\n",
    "from word2number import w2n\n",
    "from num2words import num2words\n",
    "import matplotlib.pyplot as plt\n",
    "%matplotlib inline\n",
    "import pickle"
   ]
  },
  {
   "cell_type": "code",
   "execution_count": 2,
   "metadata": {
    "collapsed": true
   },
   "outputs": [],
   "source": [
    "def str_to_num(s):\n",
    "    s_return = []\n",
    "    for w in s:\n",
    "        try:\n",
    "            w = w2n.word_to_num(w)\n",
    "        except:\n",
    "            pass\n",
    "        s_return.append(str(w))\n",
    "    return s_return"
   ]
  },
  {
   "cell_type": "code",
   "execution_count": 3,
   "metadata": {
    "collapsed": true
   },
   "outputs": [],
   "source": [
    "def clean_sentence(val):\n",
    "    val = val.replace('\\n', ' ').replace('--', ' ').replace('\\r', ' ')\n",
    "    sentence = val.split(\" \")\n",
    "    sentence = str_to_num(sentence)\n",
    "    sent = []\n",
    "    for i, s in enumerate(sentence):\n",
    "        t_sent = []\n",
    "        if '$' in s:\n",
    "            dollar_split = s.split('$')[1]\n",
    "            t_sent.append(str(dollar_split))\n",
    "            t_sent.append('dollars')\n",
    "        else:\n",
    "            t_sent.append(s.lower())\n",
    "        sent.append(\" \".join(t_sent))\n",
    "    sentence = \" \".join(sent)\n",
    "    return sentence"
   ]
  },
  {
   "cell_type": "code",
   "execution_count": 4,
   "metadata": {
    "collapsed": true
   },
   "outputs": [],
   "source": [
    "def clean_dataframe(data):\n",
    "    data = data.dropna(how=\"any\")\n",
    "    data = data.apply(clean_sentence)\n",
    "    return data"
   ]
  },
  {
   "cell_type": "code",
   "execution_count": 5,
   "metadata": {},
   "outputs": [
    {
     "data": {
      "text/html": [
       "<div>\n",
       "<style scoped>\n",
       "    .dataframe tbody tr th:only-of-type {\n",
       "        vertical-align: middle;\n",
       "    }\n",
       "\n",
       "    .dataframe tbody tr th {\n",
       "        vertical-align: top;\n",
       "    }\n",
       "\n",
       "    .dataframe thead th {\n",
       "        text-align: right;\n",
       "    }\n",
       "</style>\n",
       "<table border=\"1\" class=\"dataframe\">\n",
       "  <thead>\n",
       "    <tr style=\"text-align: right;\">\n",
       "      <th></th>\n",
       "      <th>advertisement.transcription</th>\n",
       "      <th>advertiser.name</th>\n",
       "      <th>enslaved_person.gender</th>\n",
       "      <th>enslaved_person.min_birth_year</th>\n",
       "      <th>enslaved_person.max_birth_year</th>\n",
       "      <th>enslaved_person.literacy</th>\n",
       "      <th>enslaved_person.skills</th>\n",
       "      <th>enslaved_person_languages.language_id</th>\n",
       "      <th>enslaved_person_languages.does_speak</th>\n",
       "      <th>enslaved_person_name.fullname</th>\n",
       "      <th>...</th>\n",
       "      <th>runaway_event.id</th>\n",
       "      <th>runaway.id</th>\n",
       "      <th>enslaved_person.id</th>\n",
       "      <th>enslaved_person_languages.id</th>\n",
       "      <th>enslaved_person_name.id</th>\n",
       "      <th>runaway_location.id</th>\n",
       "      <th>runaway_location_location.id</th>\n",
       "      <th>runaway_enslavers.id</th>\n",
       "      <th>enslaver.id</th>\n",
       "      <th>runaway_reward.id</th>\n",
       "    </tr>\n",
       "  </thead>\n",
       "  <tbody>\n",
       "    <tr>\n",
       "      <th>0</th>\n",
       "      <td>TWENTY DOLLARS REWARD.\\nRanaway from the Subsc...</td>\n",
       "      <td>NaN</td>\n",
       "      <td>FEMALE</td>\n",
       "      <td>NaN</td>\n",
       "      <td>NaN</td>\n",
       "      <td>NOT_PROVIDED</td>\n",
       "      <td>nurse</td>\n",
       "      <td>NaN</td>\n",
       "      <td>NaN</td>\n",
       "      <td>Tenah</td>\n",
       "      <td>...</td>\n",
       "      <td>6bb670ae-7ec5-41e1-95b4-d4421015b17f</td>\n",
       "      <td>7c1d52e1-2b99-4372-a7c2-012430871cf1</td>\n",
       "      <td>664075ec-2c11-474e-b1ef-8ed120643658</td>\n",
       "      <td>NaN</td>\n",
       "      <td>4bfe8d11-72d9-40f9-812c-33a8de72bf42</td>\n",
       "      <td>1a9753b6-120c-4520-9f28-f29b42b15434</td>\n",
       "      <td>18ef9311-02fd-402d-8d07-7b7d8567806c</td>\n",
       "      <td>d7796415-33de-4725-b41b-451b47ba7266</td>\n",
       "      <td>ea1637f3-cfd3-4aef-be71-3e090e8526e1</td>\n",
       "      <td>30efbcb3-23c1-48f5-a349-c34daea5d1fb</td>\n",
       "    </tr>\n",
       "    <tr>\n",
       "      <th>1</th>\n",
       "      <td>TWENTY DOLLARS REWARD.\\nRanaway from the Subsc...</td>\n",
       "      <td>NaN</td>\n",
       "      <td>FEMALE</td>\n",
       "      <td>NaN</td>\n",
       "      <td>NaN</td>\n",
       "      <td>NOT_PROVIDED</td>\n",
       "      <td>nurse</td>\n",
       "      <td>NaN</td>\n",
       "      <td>NaN</td>\n",
       "      <td>Tenah</td>\n",
       "      <td>...</td>\n",
       "      <td>6bb670ae-7ec5-41e1-95b4-d4421015b17f</td>\n",
       "      <td>7c1d52e1-2b99-4372-a7c2-012430871cf1</td>\n",
       "      <td>664075ec-2c11-474e-b1ef-8ed120643658</td>\n",
       "      <td>NaN</td>\n",
       "      <td>4bfe8d11-72d9-40f9-812c-33a8de72bf42</td>\n",
       "      <td>1a9753b6-120c-4520-9f28-f29b42b15434</td>\n",
       "      <td>18ef9311-02fd-402d-8d07-7b7d8567806c</td>\n",
       "      <td>d7796415-33de-4725-b41b-451b47ba7266</td>\n",
       "      <td>ea1637f3-cfd3-4aef-be71-3e090e8526e1</td>\n",
       "      <td>0d52b7d0-7bdd-48c6-acb0-ff3db30a16bb</td>\n",
       "    </tr>\n",
       "    <tr>\n",
       "      <th>2</th>\n",
       "      <td>TWENTY DOLLARS REWARD.\\nRanaway from the Subsc...</td>\n",
       "      <td>NaN</td>\n",
       "      <td>FEMALE</td>\n",
       "      <td>NaN</td>\n",
       "      <td>NaN</td>\n",
       "      <td>NOT_PROVIDED</td>\n",
       "      <td>nurse</td>\n",
       "      <td>NaN</td>\n",
       "      <td>NaN</td>\n",
       "      <td>Tenah</td>\n",
       "      <td>...</td>\n",
       "      <td>6bb670ae-7ec5-41e1-95b4-d4421015b17f</td>\n",
       "      <td>7c1d52e1-2b99-4372-a7c2-012430871cf1</td>\n",
       "      <td>664075ec-2c11-474e-b1ef-8ed120643658</td>\n",
       "      <td>NaN</td>\n",
       "      <td>4bfe8d11-72d9-40f9-812c-33a8de72bf42</td>\n",
       "      <td>94d1b273-fbf4-404b-88e9-e6301cf9a5d0</td>\n",
       "      <td>fbfd2f31-4ad1-4bb4-a0cb-c27155ac6e66</td>\n",
       "      <td>d7796415-33de-4725-b41b-451b47ba7266</td>\n",
       "      <td>ea1637f3-cfd3-4aef-be71-3e090e8526e1</td>\n",
       "      <td>30efbcb3-23c1-48f5-a349-c34daea5d1fb</td>\n",
       "    </tr>\n",
       "    <tr>\n",
       "      <th>3</th>\n",
       "      <td>TWENTY DOLLARS REWARD.\\nRanaway from the Subsc...</td>\n",
       "      <td>NaN</td>\n",
       "      <td>FEMALE</td>\n",
       "      <td>NaN</td>\n",
       "      <td>NaN</td>\n",
       "      <td>NOT_PROVIDED</td>\n",
       "      <td>nurse</td>\n",
       "      <td>NaN</td>\n",
       "      <td>NaN</td>\n",
       "      <td>Tenah</td>\n",
       "      <td>...</td>\n",
       "      <td>6bb670ae-7ec5-41e1-95b4-d4421015b17f</td>\n",
       "      <td>7c1d52e1-2b99-4372-a7c2-012430871cf1</td>\n",
       "      <td>664075ec-2c11-474e-b1ef-8ed120643658</td>\n",
       "      <td>NaN</td>\n",
       "      <td>4bfe8d11-72d9-40f9-812c-33a8de72bf42</td>\n",
       "      <td>94d1b273-fbf4-404b-88e9-e6301cf9a5d0</td>\n",
       "      <td>fbfd2f31-4ad1-4bb4-a0cb-c27155ac6e66</td>\n",
       "      <td>d7796415-33de-4725-b41b-451b47ba7266</td>\n",
       "      <td>ea1637f3-cfd3-4aef-be71-3e090e8526e1</td>\n",
       "      <td>0d52b7d0-7bdd-48c6-acb0-ff3db30a16bb</td>\n",
       "    </tr>\n",
       "    <tr>\n",
       "      <th>4</th>\n",
       "      <td>TWENTY DOLLARS REWARD.\\nRanaway from the Subsc...</td>\n",
       "      <td>NaN</td>\n",
       "      <td>FEMALE</td>\n",
       "      <td>NaN</td>\n",
       "      <td>NaN</td>\n",
       "      <td>NOT_PROVIDED</td>\n",
       "      <td>nurse</td>\n",
       "      <td>NaN</td>\n",
       "      <td>NaN</td>\n",
       "      <td>Tenah</td>\n",
       "      <td>...</td>\n",
       "      <td>6bb670ae-7ec5-41e1-95b4-d4421015b17f</td>\n",
       "      <td>7c1d52e1-2b99-4372-a7c2-012430871cf1</td>\n",
       "      <td>664075ec-2c11-474e-b1ef-8ed120643658</td>\n",
       "      <td>NaN</td>\n",
       "      <td>4bfe8d11-72d9-40f9-812c-33a8de72bf42</td>\n",
       "      <td>68ef4c2a-da28-44d2-a17c-35cd6b364a66</td>\n",
       "      <td>824497c1-56d0-4310-a9f1-d5e63c75006f</td>\n",
       "      <td>d7796415-33de-4725-b41b-451b47ba7266</td>\n",
       "      <td>ea1637f3-cfd3-4aef-be71-3e090e8526e1</td>\n",
       "      <td>30efbcb3-23c1-48f5-a349-c34daea5d1fb</td>\n",
       "    </tr>\n",
       "  </tbody>\n",
       "</table>\n",
       "<p>5 rows × 53 columns</p>\n",
       "</div>"
      ],
      "text/plain": [
       "                         advertisement.transcription advertiser.name  \\\n",
       "0  TWENTY DOLLARS REWARD.\\nRanaway from the Subsc...             NaN   \n",
       "1  TWENTY DOLLARS REWARD.\\nRanaway from the Subsc...             NaN   \n",
       "2  TWENTY DOLLARS REWARD.\\nRanaway from the Subsc...             NaN   \n",
       "3  TWENTY DOLLARS REWARD.\\nRanaway from the Subsc...             NaN   \n",
       "4  TWENTY DOLLARS REWARD.\\nRanaway from the Subsc...             NaN   \n",
       "\n",
       "  enslaved_person.gender  enslaved_person.min_birth_year  \\\n",
       "0                 FEMALE                             NaN   \n",
       "1                 FEMALE                             NaN   \n",
       "2                 FEMALE                             NaN   \n",
       "3                 FEMALE                             NaN   \n",
       "4                 FEMALE                             NaN   \n",
       "\n",
       "   enslaved_person.max_birth_year enslaved_person.literacy  \\\n",
       "0                             NaN             NOT_PROVIDED   \n",
       "1                             NaN             NOT_PROVIDED   \n",
       "2                             NaN             NOT_PROVIDED   \n",
       "3                             NaN             NOT_PROVIDED   \n",
       "4                             NaN             NOT_PROVIDED   \n",
       "\n",
       "  enslaved_person.skills enslaved_person_languages.language_id  \\\n",
       "0                  nurse                                   NaN   \n",
       "1                  nurse                                   NaN   \n",
       "2                  nurse                                   NaN   \n",
       "3                  nurse                                   NaN   \n",
       "4                  nurse                                   NaN   \n",
       "\n",
       "  enslaved_person_languages.does_speak enslaved_person_name.fullname  ...  \\\n",
       "0                                  NaN                         Tenah  ...   \n",
       "1                                  NaN                         Tenah  ...   \n",
       "2                                  NaN                         Tenah  ...   \n",
       "3                                  NaN                         Tenah  ...   \n",
       "4                                  NaN                         Tenah  ...   \n",
       "\n",
       "                       runaway_event.id                            runaway.id  \\\n",
       "0  6bb670ae-7ec5-41e1-95b4-d4421015b17f  7c1d52e1-2b99-4372-a7c2-012430871cf1   \n",
       "1  6bb670ae-7ec5-41e1-95b4-d4421015b17f  7c1d52e1-2b99-4372-a7c2-012430871cf1   \n",
       "2  6bb670ae-7ec5-41e1-95b4-d4421015b17f  7c1d52e1-2b99-4372-a7c2-012430871cf1   \n",
       "3  6bb670ae-7ec5-41e1-95b4-d4421015b17f  7c1d52e1-2b99-4372-a7c2-012430871cf1   \n",
       "4  6bb670ae-7ec5-41e1-95b4-d4421015b17f  7c1d52e1-2b99-4372-a7c2-012430871cf1   \n",
       "\n",
       "                     enslaved_person.id enslaved_person_languages.id  \\\n",
       "0  664075ec-2c11-474e-b1ef-8ed120643658                          NaN   \n",
       "1  664075ec-2c11-474e-b1ef-8ed120643658                          NaN   \n",
       "2  664075ec-2c11-474e-b1ef-8ed120643658                          NaN   \n",
       "3  664075ec-2c11-474e-b1ef-8ed120643658                          NaN   \n",
       "4  664075ec-2c11-474e-b1ef-8ed120643658                          NaN   \n",
       "\n",
       "                enslaved_person_name.id                   runaway_location.id  \\\n",
       "0  4bfe8d11-72d9-40f9-812c-33a8de72bf42  1a9753b6-120c-4520-9f28-f29b42b15434   \n",
       "1  4bfe8d11-72d9-40f9-812c-33a8de72bf42  1a9753b6-120c-4520-9f28-f29b42b15434   \n",
       "2  4bfe8d11-72d9-40f9-812c-33a8de72bf42  94d1b273-fbf4-404b-88e9-e6301cf9a5d0   \n",
       "3  4bfe8d11-72d9-40f9-812c-33a8de72bf42  94d1b273-fbf4-404b-88e9-e6301cf9a5d0   \n",
       "4  4bfe8d11-72d9-40f9-812c-33a8de72bf42  68ef4c2a-da28-44d2-a17c-35cd6b364a66   \n",
       "\n",
       "           runaway_location_location.id                  runaway_enslavers.id  \\\n",
       "0  18ef9311-02fd-402d-8d07-7b7d8567806c  d7796415-33de-4725-b41b-451b47ba7266   \n",
       "1  18ef9311-02fd-402d-8d07-7b7d8567806c  d7796415-33de-4725-b41b-451b47ba7266   \n",
       "2  fbfd2f31-4ad1-4bb4-a0cb-c27155ac6e66  d7796415-33de-4725-b41b-451b47ba7266   \n",
       "3  fbfd2f31-4ad1-4bb4-a0cb-c27155ac6e66  d7796415-33de-4725-b41b-451b47ba7266   \n",
       "4  824497c1-56d0-4310-a9f1-d5e63c75006f  d7796415-33de-4725-b41b-451b47ba7266   \n",
       "\n",
       "                            enslaver.id                     runaway_reward.id  \n",
       "0  ea1637f3-cfd3-4aef-be71-3e090e8526e1  30efbcb3-23c1-48f5-a349-c34daea5d1fb  \n",
       "1  ea1637f3-cfd3-4aef-be71-3e090e8526e1  0d52b7d0-7bdd-48c6-acb0-ff3db30a16bb  \n",
       "2  ea1637f3-cfd3-4aef-be71-3e090e8526e1  30efbcb3-23c1-48f5-a349-c34daea5d1fb  \n",
       "3  ea1637f3-cfd3-4aef-be71-3e090e8526e1  0d52b7d0-7bdd-48c6-acb0-ff3db30a16bb  \n",
       "4  ea1637f3-cfd3-4aef-be71-3e090e8526e1  30efbcb3-23c1-48f5-a349-c34daea5d1fb  \n",
       "\n",
       "[5 rows x 53 columns]"
      ]
     },
     "execution_count": 5,
     "metadata": {},
     "output_type": "execute_result"
    }
   ],
   "source": [
    "df = pd.read_csv('../data/raw/results.csv', encoding='latin1')\n",
    "df.head()"
   ]
  },
  {
   "cell_type": "code",
   "execution_count": 11,
   "metadata": {},
   "outputs": [
    {
     "data": {
      "text/plain": [
       "array(['$25 REWARD - Ran away from the plantation of Paul Hebert, on Bayou Goula, Parish of Iberville, negro man JOHN, color of dark brown or nearly black, aged about 23 years, 5 feet 8 inches high, has rather a pleasant countenance but disposed to look down when spoken to; his back is considerably marked by the whip, the marks of long standing. The above reward will be paid for the delivery of the boy to me at my plantation, or to Wm. F. Talbott, or his confinement in any jail so I may get him.',\n",
       "       'TAKEN UP\\nAND COMMITTED to the jail of New Hanover county, on the 26th inst., a negro man who says his name is BAZZELL, and that he belongs to Mrs. Purnell, of Wilmington, but was hired to Mr. E. Turlington, of said town. The owner of said negro is requested to come forward, prove property, pay charges and take him away, or he will be dealt with as the law directs.\\nW. T. J. VANN, Sheriff.\\nNov. 28. 71-6t-15-1t',\n",
       "       'RAN AWAY yesterday, A young Negro Man, named Isaac, about 5 feet 6 inches high, formerly the property of Joseph Woodruff, and sold on execution. Whoever will apprehend and deliver him to the subscriber in Savannah shall have four dollars reward, and be paid all reasonable charges. SAMUEL BEECROFT. Feb. 22, 1781.',\n",
       "       \"$50 REWARD\\nWILL BE PAID for the apprehension and delivery to me of my boy SAM, or his lodgment in the jail of New Hanover County. Sam is a bright yellow boy, well grown for 16 years old-no peculiar flesh marks, except a black mole on one of his cheeks. Sam has relations at a Dr. Garrett's, in Pitt county or Green, or at a Gen'l Williams, who owns his mother and others of his family. I purchased Sam of Rob't Jones, Esq., of Warren, five years ago, where he also has relations. JOHN H. HILL.\\nWilmington, Dec. 29th, 1859. 97-d&wtf\",\n",
       "       'RUN AWAY from the subscriber, about a month ago, a NEGROE FELLOW, named LONDON, well known in and about Savannah. Whoever takes him up, and will deliver him to the subscriber, or the Warden of the Work house in Savannah, shall receive TEN SHILLINGS REWARD. And I do hereby promise a REWARD of FIVE POUNDS to any person who shall discover him or her by whom the said negroe is harboured, if a white person, and TWENTY SHILLINGS if a slave. GREY ELLIOTT. Savannah, Sept. 29, 1767.'],\n",
       "      dtype=object)"
      ]
     },
     "execution_count": 11,
     "metadata": {},
     "output_type": "execute_result"
    }
   ],
   "source": [
    "df['advertisement.transcription'].tail(5).values"
   ]
  },
  {
   "cell_type": "code",
   "execution_count": 8,
   "metadata": {
    "collapsed": true
   },
   "outputs": [],
   "source": [
    "df = df.drop_duplicates(subset=['advertisement.id'])"
   ]
  },
  {
   "cell_type": "code",
   "execution_count": 11,
   "metadata": {
    "collapsed": true
   },
   "outputs": [],
   "source": [
    "t_df = clean_dataframe(df['advertisement.transcription'])"
   ]
  },
  {
   "cell_type": "code",
   "execution_count": 12,
   "metadata": {},
   "outputs": [
    {
     "data": {
      "text/plain": [
       "0     20 dollars reward. ranaway from the subscriber...\n",
       "20    15 dollars reward will be paid for the apprehe...\n",
       "21    baltimore, august 11, 1777. 10 pounds reward. ...\n",
       "29    90 dollars reward. eloped from the hermitage o...\n",
       "67    50 dollars reward. ranaway from the subscriber...\n",
       "Name: advertisement.transcription, dtype: object"
      ]
     },
     "execution_count": 12,
     "metadata": {},
     "output_type": "execute_result"
    }
   ],
   "source": [
    "t_df.head()"
   ]
  },
  {
   "cell_type": "code",
   "execution_count": null,
   "metadata": {
    "collapsed": true
   },
   "outputs": [],
   "source": [
    "t_df.to_csv('../data/interim/just_text_series.csv', index = False)"
   ]
  }
 ],
 "metadata": {
  "kernelspec": {
   "display_name": "Python [conda env:py_3]",
   "language": "python",
   "name": "conda-env-py_3-py"
  },
  "language_info": {
   "codemirror_mode": {
    "name": "ipython",
    "version": 3
   },
   "file_extension": ".py",
   "mimetype": "text/x-python",
   "name": "python",
   "nbconvert_exporter": "python",
   "pygments_lexer": "ipython3",
   "version": "3.7.13"
  }
 },
 "nbformat": 4,
 "nbformat_minor": 2
}
